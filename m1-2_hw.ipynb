Типы данных str, int, float и методы строк
1. Попросите пользователя ввести его имя через функцию input() и выведите приветствие с использованием f-строк.

name = input("Введите ваше имя: ")
print(f"Привет, {name}!")
2. Создайте переменную типа int со значением 42 и преобразуйте её в строку. Выведите результат на экран.

number = 42
string_number = str(number)
print(string_number)
3. Запросите у пользователя два числа, сложите их и выведите результат с помощью функции print().

num1 = int(input("Введите первое число: "))
num2 = int(input("Введите второе число: "))
result = num1 + num2
print(f"Сумма чисел равна: {result}")
4. Спросите у пользователя его возраст и проверьте, является ли он числом, используя метод .isdigit().

age_input = input("Укажите ваш возраст: ")
if age_input.isdigit():
    print("Ваш возраст:", age_input)
else:
    print("Вы ввели неверный формат возраста.")
5. Напишите программу, которая принимает строку от пользователя и выводит её в верхнем регистре.

user_string = input("Введите строку: ")
uppercase_string = user_string.upper()
print(uppercase_string)
6. Дана строка "hello world". Используя метод .split(), разделите строку по пробелам и выведите получившийся список.

s = "hello world"
words_list = s.split()
print(words_list)
7. Дан текст. Определите количество букв 'a' в этом тексте с помощью метода .count().

text = input("Введите текст: ")
count_a = text.count('a')
print(f"В тексте '{text}' буква 'a' встречается {count_a} раз.")
8. Попросите пользователя ввести предложение. Проверьте, начинается ли оно с буквы 'а', используя метод .startswith().

sentence = input("Введите предложение: ")
if sentence.startswith('а'):
    print("Предложение начинается с буквы 'а'.")
else:
    print("Предложение не начинается с буквы 'а'.")
9. Напишите программу, которая заменяет все пробелы в строке на символы подчёркивания _.

user_text = input("Введите строку: ")
modified_text = user_text.replace(' ', '_')
print(modified_text)
10. Дан список слов. Объедините их в одну строку, где слова разделены запятыми, используя метод .join().

words = ["apple", "banana", "cherry"]
joined_words = ", ".join(words)
print(joined_words)
11. Попросите пользователя ввести строку и найдите индекс первого вхождения буквы 'e'.

user_string = input("Введите строку: ")
index_e = user_string.find('e')
print(f"Индекс первого вхождения буквы 'e': {index_e}")
12. Создайте программу, которая принимает строку и выводит её в обратном порядке.

user_string = input("Введите строку: ")
reversed_string = user_string[::-1]
print(reversed_string)
13. Напишите код, который преобразует температуру из градусов Цельсия в Фаренгейты и наоборот, используя формулы конвертации.

def celsius_to_fahrenheit(c):
    return c * 1.8 + 32

def fahrenheit_to_celsius(f):
    return (f - 32) / 1.8

celsius = float(input("Введите температуру в градусах Цельсия: "))
fahrenheit = celsius_to_fahrenheit(celsius)
print(f"{celsius}°C равно {fahrenheit:.2f}°F")

fahrenheit = float(input("Введите температуру в градусах Фаренгейта: "))
celsius = fahrenheit_to_celsius(fahrenheit)
print(f"{fahrenheit}°F равно {celsius:.2f}°C")
14. Запросите у пользователя строку и удалите из неё все цифры.

import re

user_string = input("Введите строку: ")
cleaned_string = re.sub(r'\d+', '', user_string)
print(cleaned_string)
15. Напишите программу, которая спрашивает у пользователя строку и выводит только уникальные символы этой строки.

user_string = input("Введите строку: ")
unique_chars = set(user_string)
print("Уникальные символы:", ''.join(unique_chars))
16. Напишите функцию, которая принимает строку и возвращает её без повторяющихся символов.

def remove_duplicates(s):
    return ''.join(set(s))

user_string = input("Введите строку: ")
result = remove_duplicates(user_string)
print(result)
