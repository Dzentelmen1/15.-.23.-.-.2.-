Типы данных str, int, float и методы строк
1. Попросите пользователя ввести его имя через функцию input() и выведите приветствие с использованием f-строк.

name = input("Введите ваше имя: ")
print(f"Привет, {name}!")
2. Создайте переменную типа int со значением 42 и преобразуйте её в строку. Выведите результат на экран.

number = 42
string_number = str(number)
print(string_number)
3. Запросите у пользователя два числа, сложите их и выведите результат с помощью функции print().

num1 = int(input("Введите первое число: "))
num2 = int(input("Введите второе число: "))
result = num1 + num2
print(f"Сумма чисел равна: {result}")
4. Спросите у пользователя его возраст и проверьте, является ли он числом, используя метод .isdigit().

age_input = input("Укажите ваш возраст: ")
if age_input.isdigit():
    print("Ваш возраст:", age_input)
else:
    print("Вы ввели неверный формат возраста.")
5. Напишите программу, которая принимает строку от пользователя и выводит её в верхнем регистре.

user_string = input("Введите строку: ")
uppercase_string = user_string.upper()
print(uppercase_string)
6. Дана строка "hello world". Используя метод .split(), разделите строку по пробелам и выведите получившийся список.

s = "hello world"
words_list = s.split()
print(words_list)
7. Дан текст. Определите количество букв 'a' в этом тексте с помощью метода .count().

text = input("Введите текст: ")
count_a = text.count('a')
print(f"В тексте '{text}' буква 'a' встречается {count_a} раз.")
8. Попросите пользователя ввести предложение. Проверьте, начинается ли оно с буквы 'а', используя метод .startswith().

sentence = input("Введите предложение: ")
if sentence.startswith('а'):
    print("Предложение начинается с буквы 'а'.")
else:
    print("Предложение не начинается с буквы 'а'.")
9. Напишите программу, которая заменяет все пробелы в строке на символы подчёркивания _.

user_text = input("Введите строку: ")
modified_text = user_text.replace(' ', '_')
print(modified_text)
10. Дан список слов. Объедините их в одну строку, где слова разделены запятыми, используя метод .join().

words = ["apple", "banana", "cherry"]
joined_words = ", ".join(words)
print(joined_words)
11. Попросите пользователя ввести строку и найдите индекс первого вхождения буквы 'e'.

user_string = input("Введите строку: ")
index_e = user_string.find('e')
print(f"Индекс первого вхождения буквы 'e': {index_e}")
12. Создайте программу, которая принимает строку и выводит её в обратном порядке.

user_string = input("Введите строку: ")
reversed_string = user_string[::-1]
print(reversed_string)
13. Напишите код, который преобразует температуру из градусов Цельсия в Фаренгейты и наоборот, используя формулы конвертации.

def celsius_to_fahrenheit(c):
    return c * 1.8 + 32

def fahrenheit_to_celsius(f):
    return (f - 32) / 1.8

celsius = float(input("Введите температуру в градусах Цельсия: "))
fahrenheit = celsius_to_fahrenheit(celsius)
print(f"{celsius}°C равно {fahrenheit:.2f}°F")

fahrenheit = float(input("Введите температуру в градусах Фаренгейта: "))
celsius = fahrenheit_to_celsius(fahrenheit)
print(f"{fahrenheit}°F равно {celsius:.2f}°C")
14. Запросите у пользователя строку и удалите из неё все цифры.

import re

user_string = input("Введите строку: ")
cleaned_string = re.sub(r'\d+', '', user_string)
print(cleaned_string)
15. Напишите программу, которая спрашивает у пользователя строку и выводит только уникальные символы этой строки.

user_string = input("Введите строку: ")
unique_chars = set(user_string)
print("Уникальные символы:", ''.join(unique_chars))
16. Напишите функцию, которая принимает строку и возвращает её без повторяющихся символов.

def remove_duplicates(s):
    return ''.join(set(s))

user_string = input("Введите строку: ")
result = remove_duplicates(user_string)
print(result)

Итерируемые типы данных: list, dict, set
Lists

Задача 1: Создать список из трёх элементов и вывести его содержимое.

my_list = ['яблоко', 'банан', 'апельсин']
print(my_list)
Задача 2: Дан список чисел. Найти сумму всех элементов списка.

numbers = [10, 20, 30, 40, 50]
total_sum = sum(numbers)
print(total_sum)  # Вывод: 150
Задача 3: Добавьте число в конец списка, если его там ещё нет.

list_numbers = [1, 2, 3, 4]
new_number = 5

if new_number not in list_numbers:
    list_numbers.append(new_number)
    
print(list_numbers)  # Вывод: [1, 2, 3, 4, 5]
Задача 4: Удаление последнего элемента списка и вывод обновленного списка.

some_list = [100, 200, 300, 400]
some_list.pop()  # pop() удаляет последний элемент
print(some_list)  # Вывод: [100, 200, 300]
Задача 5: Найти самую длинную строку в списке строк.

strings = ['apple', 'banana', 'watermelon', 'grape']
longest_word = max(strings, key=len)
print(longest_word)  # Вывод: watermelon
Задача 6: Найти среднее арифметическое списка чисел.

numbers_list = [10, 25, 35, 45, 55]
average = sum(numbers_list) / len(numbers_list)
print(average)  # Вывод: 34.0
Задача 7: Отсортировать список имен в алфавитном порядке.

names = ['Иван', 'Анна', 'Михаил', 'Елена']
sorted_names = sorted(names)
print(sorted_names)  # Вывод: ['Анна', 'Елена', 'Иван', 'Михаил']
Задача 8: Объединить два списка без дубликатов.

list1 = [1, 2, 3, 4]
list2 = [3, 4, 5, 6]
combined_list = list(set(list1 + list2))  # Убираем дубликаты через set
print(combined_list)  # Вывод: [1, 2, 3, 4, 5, 6]
Задача 9: Найти произведение всех четных чисел в списке.

nums = [1, 2, 3, 4, 5, 6]
even_product = 1
for number in nums:
    if number % 2 == 0:
        even_product *= number
        
print(even_product)  # Вывод: 48
Задача 10: Сделать копию списка методом .copy().

original_list = [10, 20, 30]
copied_list = original_list.copy()
print(copied_list)  # Вывод: [10, 20, 30]
Задача 11: Найти второе наибольшее число в списке.

numbers_list = [10, 20, 30, 40, 50]
sorted_nums = sorted(numbers_list)
second_largest = sorted_nums[-2]
print(second_largest)  # Вывод: 40
Задача 12: Найти разницу между максимальным и минимальным значениями в списке.

values = [15, 25, 35, 45, 55]
max_value = max(values)
min_value = min(values)
difference = max_value - min_value
print(difference)  # Вывод: 40
Задача 13: Перевернуть список (последний элемент станет первым).

sample_list = [1, 2, 3, 4, 5]
reversed_list = sample_list[::-1]
print(reversed_list)  # Вывод: [5, 4, 3, 2, 1]
Задача 14: Удалить все четные числа из списка.

initial_list = [1, 2, 3, 4, 5, 6]
odd_numbers = [x for x in initial_list if x % 2 != 0]
print(odd_numbers)  # Вывод: [1, 3, 5]
Задача 15: Найти количество уникальных элементов в списке.

numbers_list = [1, 2, 2, 3, 3, 3, 4, 5]
unique_elements_count = len(set(numbers_list))
print(unique_elements_count)

Dictionaries

Задача 1: Создать словарь с тремя парами ключ-значение и вывести его содержимое


my_dict = {'a': 1, 'b': 2, 'c': 3}


Задача 2: Дан словарь. Добавьте новую пару ключ-значение


my_dict = {'a': 1, 'b': 2, 'c': 3}
my_dict['d'] = 4


Задача 3: Удаление элемента из словаря по ключу


my_dict = {'a': 1, 'b': 2, 'c': 3}
del my_dict['b']


Задача 4: Проверка наличия ключа в словаре


my_dict = {'a': 1, 'b': 2, 'c': 3}

if 'a' in my_dict:
    print("Ключ 'a' присутствует в словаре")
else:
    print("Ключ 'a' отсутствует в словаре")
Задача 5: Нахождение суммы всех значений в словаре


my_dict = {'a': 1, 'b': 2, 'c': 3}
sum_values = sum(my_dict.values())


Задача 6: Поиск ключа с максимальным значением


my_dict = {'a': 10, 'b': 20, 'c': 30}
max_key = max(my_dict, key=my_dict.get)


Задача 7: Замена ключей и значений в словаре


my_dict = {'a': 1, 'b': 2, 'c': 3}
swapped_dict = {value: key for key, value in my_dict.items()}


Задача 8: Нахождение среднего значения всех значений в словаре


my_dict = {'a': 1, 'b': 2, 'c': 3}
average_value = sum(my_dict.values()) / len(my_dict)


Задача 9: Поиск ключа с минимальным значением


my_dict = {'a': 100, 'b': 200, 'c': 300}
min_key = min(my_dict, key=my_dict.get)


Задача 10: Объединение двух словарей


dict1 = {'a': 1, 'b': 2}
dict2 = {'c': 3, 'd': 4}
merged_dict = {**dict1, **dict2}


Задача 11: Удаление элементов, значения которых равны None

my_dict = {'a': 1, 'b': None, 'c': 3, 'd': None}
cleaned_dict = {key: value for key, value in my_dict.items() if value is not None}


Задача 12: Подсчет количества уникальных значений в словаре


my_dict = {'a': 1, 'b': 2, 'c': 1, 'd': 3}
unique_count = len(set(my_dict.values()))

Задача 13: Создание словаря из двух списков


keys_list = ['a', 'b', 'c']
values_list = [1, 2, 3]


new_dict = dict(zip(keys_list, values_list))

Задача 14: Поиск всех ключей, значения которых больше определенного числа


my_dict = {'a': 50, 'b': 60, 'c': 70, 'd': 40}

threshold = 55
result_keys = [key for key, value in my_dict.items() if value > threshold]


Задача 15: Разница между максимальным и минимальным значениями в словаре


my_dict = {'a': 90, 'b': 80, 'c': 95, 'd': 85}


max_value = max(my_dict.values())
min_value = min(my_dict.values())
difference = max_value - min_value



Sets

Задача 1: Создать множество из трёх элементов и вывести его содержимое


my_set = {"apple", "banana", "cherry"}


Задача 2: Даны два множества. Найти их пересечение


set1 = {"apple", "banana", "cherry"}
set2 = {"banana", "orange", "grape"}
intersection = set1.intersection(set2)


Задача 3: Написать программу, которая добавляет элемент во множество


my_set = {"apple", "banana", "cherry"}
my_set.add("mango")


Задача 4: Удалить элемент из множества


my_set = {"apple", "banana", "cherry"}
my_set.remove("banana")  # Если элемента нет, вызовет ошибку KeyError


Задача 5: Даны два множества. Найти их объединение


set1 = {"apple", "banana", "cherry"}
set2 = {"banana", "orange", "grape"}
union = set1.union(set2)


Задача 6: Создать множество и найти количество элементов в нём


my_set = {"apple", "banana", "cherry"}
length = len(my_set)

Задача 7: Дано множество. Проверить, содержит ли оно определённый элемент


my_set = {"apple", "banana", "cherry"}
element = "banana"
if element in my_set:
    print(f"{element} содержится в множестве.")
else:
    print(f"{element} не содержится в множестве.")
Задача 8: Написать код, который создаёт множество из списка, удаляя дубликаты


my_list = ["apple", "banana", "apple", "cherry"]
my_set = set(my_list)


Задача 9: Даны два множества. Найти их разность


set1 = {"apple", "banana", "cherry"}
set2 = {"banana", "orange", "grape"}
difference = set1.difference(set2)


Задача 10: Создать множество и найти максимальный элемент

my_set = {1, 5, 3, 8, 10}
max_element = max(my_set)


Задача 11: Дано множество. Найти минимальный элемент


my_set = {1, 5, 3, 8, 10}
min_element = min(my_set)


Задача 12: Написать программу, которая находит общие элементы между двумя множествами


set1 = {"apple", "banana", "cherry"}
set2 = {"banana", "orange", "grape"}


common_elements = set1.intersection(set2)

Задача 13: Создать множество и найти сумму всех элементов

my_set = {1, 5, 3, 8, 10}

total_sum = sum(my_set)

Задача 14: Даны два множества. Найти симметричную разность

set1 = {"apple", "banana", "cherry"}
set2 = {"banana", "orange", "grape"}

symmetric_difference = set1.symmetric_difference(set2)

Задача 15: Создать множество и найти произведение всех элементов

my_set = {1, 2, 3, 4, 5}

from functools import reduce
product = reduce(lambda x, y: x * y, my_set)

print(product)

Циклы for/while, условные конструкции

Задача 1: Программа, выводящая числа от 1 до 10 с помощью цикла for

for i in range(1, 11):
    print(i)
Задача 2: Использование цикла while для ввода положительного числа пользователем

number = int(input("Пожалуйста, введите положительное число: "))

while number <= 0:
    print("Ошибка! Число должно быть положительным.")
    number = int(input("Попробуйте снова: "))

print(f"Введено правильное число: {number}")
Задача 3: Вывести числа из списка, которые больше 5

numbers = [3, 6, 2, 8, 1, 9, 5, 7]

greater_than_five = [num for num in numbers if num > 5]

Задача 4: Сумма чисел от 1 до n, заданного пользователем

n = int(input("Введите число n: "))

sum_of_numbers = sum(range(1, n + 1))

Задача 5: Таблица умножения для числа, указанного пользователем

number = int(input("Введите число для таблицы умножения: "))

for i in range(1, 11):
    print(f"{number} x {i} = {number * i}")
Задача 6: Найти все простые числа до заданного числа

def is_prime(n):
    """Проверка числа на простоту"""
    if n <= 1:
        return False
    for i in range(2, int(n ** 0.5) + 1):
        if n % i == 0:
            return False
    return True

limit = int(input("Введите предел поиска простых чисел: "))

prime_numbers = [num for num in range(2, limit + 1) if is_prime(num)]

Задача 7: Найти все четные числа из списка с помощью цикла for

numbers = [1, 2, 3, 4, 5, 6, 7, 8, 9, 10]

even_numbers = []
for num in numbers:
    if num % 2 == 0:
        even_numbers.append(num)

Задача 8: Вывести строки из списка, содержащие букву 'a'

strings = ["apple", "banana", "cherry", "date", "elderberry"]

strings_with_a = [s for s in strings if 'a' in s]

Задача 9: Найти факториал числа, указанного пользователем

import math

number = int(input("Введите число для вычисления факториала: "))
factorial_result = math.factorial(number)

Задача 10: Проверка числа на палиндром

number = input("Введите число для проверки на палиндром: ")
if number == number[::-1]:
    print(f"Число {number} является палиндромом.")
else:
    print(f"Число {number} не является палиндромом.")
Задача 11: Найти строки длиной больше 5 символов

strings = ["apple", "banana", "cherry", "date", "elderberry"]
long_strings = [s for s in strings if len(s) > 5]

Задача 12: Найти наибольшее число среди введенных пользователем

numbers = list(map(int, input("Введите несколько чисел через пробел: ").split()))
largest_number = max(numbers)

Задача 13: Вывести числа Фибоначчи до заданного числа

n = int(input("Введите максимальное число для последовательности Фибоначчи: "))
fibonacci_sequence = [0, 1]
while fibonacci_sequence[-1] < n:
    next_num = fibonacci_sequence[-1] + fibonacci_sequence[-2]
    fibonacci_sequence.append(next_num)
if fibonacci_sequence[-1] > n:
    fibonacci_sequence.pop()

Задача 14: Найти наибольший общий делитель двух чисел

def gcd(a, b):
    """Алгоритм Евклида для нахождения НОД"""
    while b != 0:
        a, b = b, a % b
    return a
a = int(input("Введите первое число: "))
b = int(input("Введите второе число: "))
gcd_result = gcd(a, b)

Задача 15: Найти числа, делящиеся на 3 и 5 одновременно

numbers = [15, 18, 21, 24, 27, 30, 33, 36, 39, 42]
divisible_by_3_and_5 = [num for num in numbers if num % 3 == 0 and num % 5 == 0]

Задача 16: Построение звездного треугольника заданной высоты

height = int(input("Введите высоту треугольника: "))

for row in range(height):
    print(' ' * (height - row - 1), end='')
    print('*' * (row * 2 + 1))

Базовое применение функций

Функция 1: Складывает два числа и возвращает результат

def add_two_numbers(a, b):
    """
    Возвращает сумму двух чисел.
    
    :param a: Первое число
    :param b: Второе число
    :return: Сумма a и b
    """
    return a + b

Функция 2: Принимает список чисел и возвращает их сумму

def sum_of_numbers(numbers):
    """
    Возвращает сумму всех чисел в списке.
    
    :param numbers: Список чисел
    :return: Сумма всех чисел в списке
    """
    return sum(numbers)

Функция 3: Принимает строку и возвращает её в обратном порядке

def reverse_string(string):
    """
    Возвращает строку в обратном порядке.
    
    :param string: Исходная строка
    :return: Строка в обратном порядке
    """
    return string[::-1]

Функция 4: Принимает список строк и возвращает только те, которые содержат букву 'a'

def filter_strings_containing_a(strings):
    """
    Возвращает список строк, содержащих букву 'a'.
    
    :param strings: Список строк
    :return: Список строк, содержащих 'a'
    """
    return [string for string in strings if 'a' in string]

Функция 5: Принимает число и возвращает True, если оно простое, иначе False

def is_prime(number):
    """
    Проверяет, является ли число простым.
    
    :param number: Целое число
    :return: True, если число простое, иначе False
    """
    if number <= 1:
        return False
    for i in range(2, int(number ** 0.5) + 1):
        if number % i == 0:
            return False
    return True

Функция 6: Принимает список чисел и возвращает новый список без дубликатов

def remove_duplicates(numbers):
    """
    Возвращает список без дублирующихся элементов.
    
    :param numbers: Исходный список чисел
    :return: Новый список без дубликатов
    """
    return list(set(numbers))

Функция 7: Принимает строку и возвращает количество уникальных символов

def count_unique_characters(string):
    """
    Возвращает количество уникальных символов в строке.
    
    :param string: Входная строка
    :return: Количество уникальных символов
    """
    unique_chars = set(string)
    return len(unique_chars)

Функция 8: Принимает два списка и возвращает их пересечение

def intersection_of_lists(list1, list2):
    """
    Возвращает пересечение двух списков.
    
    :param list1: Первый список
    :param list2: Второй список
    :return: Пересечение двух списков
    """
    return list(set(list1).intersection(set(list2)))


Функция 9: Принимает строку и возвращает её без пробелов

def remove_spaces(string):
    """
    Возвращает строку без пробелов.
    
    :param string: Входная строка
    :return: Строка без пробелов
    """
    return string.replace(" ", "")


Функция 10: Принимает список чисел и возвращает среднее значение

def calculate_average(numbers):
    """
    Возвращает среднее значение списка чисел.
    
    :param numbers: Список чисел
    :return: Среднее значение чисел в списке
    """
    return sum(numbers) / len(numbers)
